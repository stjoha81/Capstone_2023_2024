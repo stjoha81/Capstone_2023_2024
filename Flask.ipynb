{
 "cells": [
  {
   "cell_type": "code",
   "execution_count": 4,
   "id": "70864c02-82ff-4359-83eb-3789e060bf64",
   "metadata": {},
   "outputs": [],
   "source": [
    "# 1. Create a new folder named static.\n",
    "import os\n",
    "\n",
    "# Create path string for my flask app.\n",
    "my_flask_app_path = \"./Module 30/my_flask_app\"\n",
    "os.makedirs(my_flask_app_path + \"/static\")\n",
    "\n",
    "# CSS content to save to file.\n",
    "css_string = \".chart-container {width: 80%; margin: 20px auto;}\"\n",
    "\n",
    "# Create a file called styles.css\n",
    "with open((my_flask_app_path + \"/static/styles.css\"), 'a') as filewriter:\n",
    "    filewriter.write(css_string)"
   ]
  },
  {
   "cell_type": "code",
   "execution_count": 6,
   "id": "25cd42ef-fa22-467a-afb8-32bfab947dba",
   "metadata": {},
   "outputs": [],
   "source": [
    "# 2. Create another folder named templates\n",
    "os.makedirs(my_flask_app_path + \"/templates\")\n",
    "\n",
    "# For item #6 above, added an additional text box to the html to get user's name.\n",
    "\n",
    "# HTML content to save to file.\n",
    "html_string = '<!DOCTYPE html><html><head><title>Data Visualization with Flask</title><link rel=\"stylesheet\" href=\"{{ url_for(\\'static\\', filename=\\'styles.css\\') }}\"></head><body><h1>Data Visualization with Flask</h1><form method=\"POST\" action=\"/\"><div><label for=\"categories\">Enter your name:</label><input type=\"text\" name=\"your_name\" required></div><div><label for=\"categories\">Categories (comma-separated):</label><input type=\"text\" name=\"categories\" required></div><div><label for=\"values\">Values (comma-separated):</label><input type=\"text\" name=\"values\" required></div><button type=\"submit\">Generate Bar Chart</button></form><div class=\"chart-container\">{% if chart_url %}<img src=\"data:image/png;base64,{{ chart_url }}\" alt=\"Bar Chart\">{% endif %}</div></body></html>'\n",
    "\n",
    "# Create a file called index.html.\n",
    "with open((my_flask_app_path + \"/templates/index.html\"), 'a') as filewriter:\n",
    "    filewriter.write(html_string)"
   ]
  },
  {
   "cell_type": "code",
   "execution_count": 1,
   "id": "40b6d453-d29a-409f-8e2f-9079367a2b1c",
   "metadata": {},
   "outputs": [
    {
     "name": "stdout",
     "output_type": "stream",
     "text": [
      "Enter your authtoken, which can be copied from https://dashboard.ngrok.com/auth\n"
     ]
    },
    {
     "name": "stdin",
     "output_type": "stream",
     "text": [
      " ········\n"
     ]
    }
   ],
   "source": [
    "import getpass\n",
    "from pyngrok import ngrok, conf\n",
    "\n",
    "print(\"Enter your authtoken, which can be copied from https://dashboard.ngrok.com/auth\")\n",
    "conf.get_default().auth_token = getpass.getpass()"
   ]
  },
  {
   "cell_type": "code",
   "execution_count": 2,
   "id": "49c5f81e-fada-4be7-9ce4-3af68563ee13",
   "metadata": {},
   "outputs": [
    {
     "name": "stdout",
     "output_type": "stream",
     "text": [
      " * ngrok tunnel \"https://cc9c-2600-1700-4f02-280-cdbb-77b2-ca43-54cb.ngrok-free.app\" -> \"http://127.0.0.1:5000\"\n",
      " * Serving Flask app '__main__'\n",
      " * Debug mode: on\n"
     ]
    },
    {
     "name": "stderr",
     "output_type": "stream",
     "text": [
      "\u001b[31m\u001b[1mWARNING: This is a development server. Do not use it in a production deployment. Use a production WSGI server instead.\u001b[0m\n",
      " * Running on http://127.0.0.1:5000\n",
      "\u001b[33mPress CTRL+C to quit\u001b[0m\n",
      "127.0.0.1 - - [21/Apr/2024 10:16:44] \"GET / HTTP/1.1\" 200 -\n",
      "127.0.0.1 - - [21/Apr/2024 10:16:44] \"\u001b[33mGET /static/styles.css HTTP/1.1\u001b[0m\" 404 -\n",
      "127.0.0.1 - - [21/Apr/2024 10:16:44] \"\u001b[33mGET /favicon.ico HTTP/1.1\u001b[0m\" 404 -\n",
      "127.0.0.1 - - [21/Apr/2024 10:16:54] \"POST / HTTP/1.1\" 200 -\n",
      "127.0.0.1 - - [21/Apr/2024 10:16:54] \"\u001b[33mGET /static/styles.css HTTP/1.1\u001b[0m\" 404 -\n"
     ]
    }
   ],
   "source": [
    "from flask import Flask, render_template, request\n",
    "import threading\n",
    "import matplotlib.pyplot as plt\n",
    "import io\n",
    "import os\n",
    "import base64\n",
    "\n",
    "os.environ[\"FLASK_DEBUG\"] = \"development\"\n",
    "\n",
    "my_flask_app_path = \"./Module 30/my_flask_app\"\n",
    "template_dir= my_flask_app_path + \"/templates\"\n",
    "\n",
    "app = Flask(__name__, template_folder=template_dir)\n",
    "port = 5000\n",
    "\n",
    "# Open a ngrok tunnel to the HTTP server\n",
    "public_url = ngrok.connect(port).public_url\n",
    "print(\" * ngrok tunnel \\\"{}\\\" -> \\\"http://127.0.0.1:{}\\\"\".format(public_url, port))\n",
    "\n",
    "# Update any base URLs to use the public ngrok URL\n",
    "app.config[\"BASE_URL\"] = public_url\n",
    "\n",
    "\n",
    "# 1.\n",
    "# Added a parameter for item number 6 above to include a name supplied by the user.\n",
    "def generate_bar_chart(categories, values, user_name):\n",
    "    # Write code here for a fuction that takes a list of category names and\n",
    "    # respective values and generates a bar chart using plt.bar. Return your\n",
    "    # barplot as a UTF-8 encoded string.\n",
    "\n",
    "    # Get the x values from the category names list.\n",
    "    x = [category for category in categories]\n",
    "    # Get the y values from the values list.\n",
    "    y = [value for value in values]\n",
    "\n",
    "    # Set the subplot.\n",
    "    fig, ax = plt.subplots(figsize=(12,8))\n",
    "    # Set the bar chart and labels.\n",
    "    ax.bar(x,y)\n",
    "    ax.set_title(user_name + \"'s Category and Values chart\")\n",
    "    ax.set_xlabel(\"Categories\")\n",
    "    ax.set_ylabel(\"Values\")\n",
    "\n",
    "    # Create IO buffer object.\n",
    "    buffer = io.BytesIO()\n",
    "    #Save the bar chart to the buffer.\n",
    "    fig.savefig(buffer, format=\"png\")\n",
    "\n",
    "    # Return your barplot as a UTF-8 encoded string\n",
    "    return base64.b64encode(buffer.getvalue()).decode()\n",
    "\n",
    "\n",
    "@app.route('/', methods=['GET', 'POST'])\n",
    "def index():\n",
    "    chart_url = None\n",
    "\n",
    "    if request.method == 'POST':\n",
    "        # Extract categories from the request form and convert the string to a\n",
    "        # list.\n",
    "\n",
    "# 2.\n",
    "        # Get the categories from the HTTTP request.\n",
    "        categories_string = request.form[\"categories\"]\n",
    "        # Convert to list.\n",
    "        categories = categories_string.split(\",\")\n",
    "\n",
    "        # Extract values from the request form and convert the input string to a\n",
    "        # list of integers.\n",
    "\n",
    "        # Get the values from the HTTTP request.\n",
    "        values_string = request.form[\"values\"]\n",
    "\n",
    "        # Convert to list of integers.\n",
    "        values = [int(x) for x in values_string.split(\",\")]\n",
    "\n",
    "# 6. See if you can extend it in some way.\n",
    "# Make sure you understand how the python code interacts with the html template.\n",
    "\n",
    "        # Get the user's name from the additional text box included in the html.\n",
    "        user_name = request.form[\"your_name\"]\n",
    "\n",
    "\n",
    "# 3.\n",
    "        # Pass your categories and values to the generate_bar_chart function.\n",
    "        # also pass the additional name value included for item nubmer 6 above.\n",
    "        chart_url = generate_bar_chart(categories, values, user_name)\n",
    "# 4.\n",
    "    # Return a render_template function, passing your bar plot as input.\n",
    "    return render_template(\"index.html\", chart_url=chart_url)\n",
    "\n",
    "\n",
    "if __name__ == '__main__':\n",
    "    # Start the Flask server in a new thread\n",
    "  threading.Thread(target=app.run, kwargs={\"use_reloader\": False}).start()"
   ]
  },
  {
   "cell_type": "code",
   "execution_count": null,
   "id": "68ed0f9d-3cb4-4f41-a4ac-c2d1ca60d725",
   "metadata": {},
   "outputs": [],
   "source": []
  }
 ],
 "metadata": {
  "kernelspec": {
   "display_name": "Python (capstone_venv)",
   "language": "python",
   "name": "capstone_venv"
  },
  "language_info": {
   "codemirror_mode": {
    "name": "ipython",
    "version": 3
   },
   "file_extension": ".py",
   "mimetype": "text/x-python",
   "name": "python",
   "nbconvert_exporter": "python",
   "pygments_lexer": "ipython3",
   "version": "3.11.7"
  }
 },
 "nbformat": 4,
 "nbformat_minor": 5
}
