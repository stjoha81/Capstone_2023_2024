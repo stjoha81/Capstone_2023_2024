{
 "cells": [
  {
   "cell_type": "code",
   "execution_count": 1,
   "id": "c670f9f7-9810-4f1c-9ab8-f3f13aad296f",
   "metadata": {},
   "outputs": [],
   "source": [
    "import cv2\n",
    "import glob\n",
    "import os\n",
    "import matplotlib.pyplot as plt\n",
    "import numpy as np\n",
    "import seaborn as sns\n",
    "import tensorflow as tf\n",
    "from keras.callbacks import EarlyStopping\n",
    "from tensorflow.keras.datasets import cifar10\n",
    "from tensorflow.keras.applications import VGG16\n",
    "from tensorflow.keras.models import Model\n",
    "from tensorflow.keras.models import Sequential\n",
    "from tensorflow.keras.layers import Dense, Dropout, Flatten, GlobalAveragePooling2D\n",
    "from tensorflow.keras.optimizers import Adam\n",
    "from tensorflow.keras.preprocessing.image import ImageDataGenerator\n",
    "from tensorflow.keras.utils import to_categorical\n",
    "from sklearn.metrics import classification_report, confusion_matrix\n",
    "from sklearn.model_selection import train_test_split\n",
    "from sklearn.preprocessing import LabelEncoder\n",
    "from tqdm import tqdm"
   ]
  },
  {
   "cell_type": "code",
   "execution_count": 16,
   "id": "f3451922-2a53-45c7-9947-65b304598d0b",
   "metadata": {},
   "outputs": [
    {
     "name": "stdout",
     "output_type": "stream",
     "text": [
      "Training image folder path: ../Data/archive/Training/glioma_tumor\n"
     ]
    },
    {
     "name": "stderr",
     "output_type": "stream",
     "text": [
      "100%|███████████████████████████████████████████████████████████████████████████████████████████████████████████████████████| 826/826 [00:00<00:00, 2247.76it/s]\n"
     ]
    },
    {
     "name": "stdout",
     "output_type": "stream",
     "text": [
      "Training image folder path: ../Data/archive/Training/meningioma_tumor\n"
     ]
    },
    {
     "name": "stderr",
     "output_type": "stream",
     "text": [
      "100%|███████████████████████████████████████████████████████████████████████████████████████████████████████████████████████| 822/822 [00:00<00:00, 2250.80it/s]\n"
     ]
    },
    {
     "name": "stdout",
     "output_type": "stream",
     "text": [
      "Training image folder path: ../Data/archive/Training/pituitary_tumor\n"
     ]
    },
    {
     "name": "stderr",
     "output_type": "stream",
     "text": [
      "100%|███████████████████████████████████████████████████████████████████████████████████████████████████████████████████████| 827/827 [00:00<00:00, 1978.12it/s]\n"
     ]
    },
    {
     "name": "stdout",
     "output_type": "stream",
     "text": [
      "Training image folder path: ../Data/archive/Training/no_tumor\n"
     ]
    },
    {
     "name": "stderr",
     "output_type": "stream",
     "text": [
      "100%|███████████████████████████████████████████████████████████████████████████████████████████████████████████████████████| 395/395 [00:00<00:00, 2182.45it/s]\n"
     ]
    }
   ],
   "source": [
    "# Load and prep the data.\n",
    "# Code taken from Capstone Model_no augmentation notebook. \n",
    "\n",
    "# Downloaded capstone project data from Kaggle:\n",
    "# https://www.kaggle.com/datasets/sartajbhuvaji/brain-tumor-classification-mri/download?datasetVersionNumber=2\n",
    "\n",
    "# Unzipped the archive into a directory on my local machine.\n",
    "\n",
    "# Absolute path\n",
    "# my_data_path = \"/Users/sh/Documents/School/UCSD Extension /Machine Learning and AI/Capstone/Project Files/Data/archive/\"\n",
    "\n",
    "# Relative path\n",
    "my_data_path = \"../Data/archive/\"\n",
    "\n",
    "training_path = my_data_path + \"Training/\"\n",
    "testing_path = my_data_path + \"Testing/\"\n",
    "\n",
    "# Load the data and begin the exploration.\n",
    "\n",
    "# Per the source data, images are 512x512.\n",
    "\n",
    "labels = [\"glioma_tumor\", \"meningioma_tumor\",\"pituitary_tumor\", \"no_tumor\"]\n",
    "\n",
    "# for i in tqdm(range(20)):\n",
    "\n",
    "# Load the training data.\n",
    "X_train = []\n",
    "y_train = []\n",
    "\n",
    "# Resize images to a smaller size to simplify processing.\n",
    "#image_size = 512\n",
    "image_size = 256\n",
    "\n",
    "for label in labels:\n",
    "    folder_path = os.path.join(training_path, label)\n",
    "    print(\"Training image folder path:\", folder_path)\n",
    "\n",
    "    # Use tqdm to show progress bar.\n",
    "    for image_filename in tqdm(os.listdir(folder_path)):\n",
    "       image = cv2.imread(os.path.join(folder_path, image_filename))\n",
    "       image = cv2.resize(image,(image_size, image_size))\n",
    "       X_train.append(image)\n",
    "       y_train.append(label)\n",
    "\n"
   ]
  },
  {
   "cell_type": "code",
   "execution_count": 11,
   "id": "434b4cbe-d7d7-46a7-a73d-b10a32764079",
   "metadata": {},
   "outputs": [
    {
     "name": "stdout",
     "output_type": "stream",
     "text": [
      "Testing image folder path: ../Data/archive/Testing/glioma_tumor\n"
     ]
    },
    {
     "name": "stderr",
     "output_type": "stream",
     "text": [
      "100%|████████████████████████████████████████████████████████████████████████████████████████████████████████████████████████| 100/100 [00:00<00:00, 902.53it/s]\n"
     ]
    },
    {
     "name": "stdout",
     "output_type": "stream",
     "text": [
      "Testing image folder path: ../Data/archive/Testing/meningioma_tumor\n"
     ]
    },
    {
     "name": "stderr",
     "output_type": "stream",
     "text": [
      "100%|███████████████████████████████████████████████████████████████████████████████████████████████████████████████████████| 115/115 [00:00<00:00, 1604.40it/s]\n"
     ]
    },
    {
     "name": "stdout",
     "output_type": "stream",
     "text": [
      "Testing image folder path: ../Data/archive/Testing/pituitary_tumor\n"
     ]
    },
    {
     "name": "stderr",
     "output_type": "stream",
     "text": [
      "100%|██████████████████████████████████████████████████████████████████████████████████████████████████████████████████████████| 74/74 [00:00<00:00, 666.80it/s]\n"
     ]
    },
    {
     "name": "stdout",
     "output_type": "stream",
     "text": [
      "Testing image folder path: ../Data/archive/Testing/no_tumor\n"
     ]
    },
    {
     "name": "stderr",
     "output_type": "stream",
     "text": [
      "100%|███████████████████████████████████████████████████████████████████████████████████████████████████████████████████████| 105/105 [00:00<00:00, 2647.43it/s]\n"
     ]
    }
   ],
   "source": [
    "# Load the testing data.\n",
    "\n",
    "for label in labels:\n",
    "    folder_path = os.path.join(testing_path, label)\n",
    "    print(\"Testing image folder path:\", folder_path)\n",
    "    for image_filename in tqdm(os.listdir(folder_path)):\n",
    "       image = cv2.imread(os.path.join(folder_path, image_filename))\n",
    "       image = cv2.resize(image,(image_size, image_size))\n",
    "       X_train.append(image)\n",
    "       y_train.append(label)"
   ]
  },
  {
   "cell_type": "code",
   "execution_count": 12,
   "id": "ff49168e-e05a-41ad-9930-e655d7de62f6",
   "metadata": {},
   "outputs": [
    {
     "name": "stdout",
     "output_type": "stream",
     "text": [
      "X array shape: (3264, 256, 256, 3)\n",
      "Y array shape: (3264,) <U16\n"
     ]
    }
   ],
   "source": [
    "# Convert to Numpy arrays for easier manipulation and display the shape of the data.\n",
    "X_array = np.array(X_train)\n",
    "y_array = np.array(y_train)\n",
    "\n",
    "print(\"X array shape:\", X_array.shape)\n",
    "print(\"Y array shape:\", y_array.shape, y_array.dtype)"
   ]
  },
  {
   "cell_type": "code",
   "execution_count": 13,
   "id": "655bb33c-6642-41f4-b75f-2bb78bf31333",
   "metadata": {},
   "outputs": [
    {
     "name": "stdout",
     "output_type": "stream",
     "text": [
      "Current directory: /Users/sh/Documents/School/UCSD Extension /Machine Learning and AI/Capstone/Project Files/Notebooks\n",
      "['.DS_Store']\n"
     ]
    }
   ],
   "source": [
    "# Get current directory.\n",
    "print(\"Current directory:\", os.getcwd())\n",
    "print(os.listdir(\"../Data/augmented/\"))"
   ]
  },
  {
   "cell_type": "code",
   "execution_count": 14,
   "id": "9c44b969-4e2b-4b9c-b863-9ad36c410f2a",
   "metadata": {},
   "outputs": [
    {
     "name": "stdout",
     "output_type": "stream",
     "text": [
      "no_tumor_array shape: (500, 256, 256, 3)\n"
     ]
    }
   ],
   "source": [
    "\n",
    "# Augment the no tumor training class images to addresss the class imbalance.\n",
    "# Augment pictures (rotate, shift, flip).\n",
    "\n",
    "# Create a separate array that contains the no tumor images.\n",
    "no_tumor_array = X_array[y_array == \"no_tumor\"]\n",
    "print(\"no_tumor_array shape:\", no_tumor_array.shape)\n",
    "# The array contains 500 images.\n",
    "\n",
    "# Absolute directory path to save augmented images to.\n",
    "#augmented_img_path = \"/Users/sh/Documents/School/UCSD Extension /Machine Learning and AI/Capstone/Project Files/Data/augmented\"\n",
    "\n",
    "# Relative directory path to save augmented images to.\n",
    "augmented_img_path = \"../Data/augmented/\"\n",
    "\n",
    "# Create and ImageDataGenerator to augment the images (rotate 25 degrees, shift width and height 10%, flip horizontal).\n",
    "image_augmenter = ImageDataGenerator(rotation_range=25, width_shift_range=0.1, height_shift_range=0.1, horizontal_flip=True)\n",
    "\n",
    "# Apply the augmentation to the no tumor data.\n",
    "image_augmenter.fit(no_tumor_array)\n",
    "\n",
    "# Create augmented images and labels.\n",
    "# Chose to generate 320 images (256+64 = 320).\n",
    "image_counter = 0\n",
    "for batch in image_augmenter.flow(x=no_tumor_array, batch_size=1, save_to_dir=augmented_img_path, save_prefix='no_tumor', save_format='jpeg'):\n",
    "    image_counter += 1    \n",
    "# Stop after generating 320 images\n",
    "    if image_counter == 320:\n",
    "        break\n"
   ]
  },
  {
   "cell_type": "code",
   "execution_count": 6,
   "id": "565f6146-c251-4c67-8da9-b75e0533e77d",
   "metadata": {},
   "outputs": [
    {
     "name": "stdout",
     "output_type": "stream",
     "text": [
      "X_augmented length: 320\n"
     ]
    }
   ],
   "source": [
    "\n",
    "# Create an array for the labels:\n",
    "no_tumor_labels_array = np.full((320,), \"no_tumor\", dtype= \"<U16\")\n",
    "\n",
    "# Create an empty array for the augmented images\n",
    "X_augmented = []\n",
    "\n",
    "\n",
    "# oslsitdir below picking up hidden files? Yes! Use glob instead.\n",
    "\n",
    "# Read in the augmented images.\n",
    "# Use tqdm to show progress bar.\n",
    "augmented_images = glob.glob(augmented_img_path + \"/*.jpeg\")\n",
    "#for image_filename in tqdm(os.listdir(augmented_img_path)):\n",
    "for image_filename in augmented_images:  \n",
    "    image = cv2.imread(os.path.join(augmented_img_path, image_filename))\n",
    "    X_augmented.append(image)\n",
    "\n",
    "print(\"X_augmented length:\", len(X_augmented))\n",
    "\n"
   ]
  },
  {
   "cell_type": "code",
   "execution_count": 7,
   "id": "7735dd27-898b-4f66-9ffb-0a666597c5fd",
   "metadata": {},
   "outputs": [
    {
     "name": "stdout",
     "output_type": "stream",
     "text": [
      "X_augmented length: 320\n",
      "np.array(X_augmented) (320, 256, 256, 3)\n",
      "X_array <class 'numpy.ndarray'> (3264, 256, 256, 3)\n",
      "y_array <class 'numpy.ndarray'> (3264,)\n",
      "X_array <class 'numpy.ndarray'> (3584, 256, 256, 3)\n",
      "y_array <class 'numpy.ndarray'> (3584,)\n"
     ]
    }
   ],
   "source": [
    "\n",
    "# Add the augmented no tumor images and labels to the X and y data.\n",
    "print(\"X_augmented length:\", len(X_augmented))\n",
    "print(\"np.array(X_augmented)\", np.array(X_augmented).shape)\n",
    "print(\"X_array\", type(X_array), X_array.shape)\n",
    "\n",
    "\n",
    "X_array = np.concatenate((X_array, np.array(X_augmented)), axis=0)\n",
    "\n",
    "print(\"y_array\", type(y_array), y_array.shape)\n",
    "y_array = np.append(y_array, no_tumor_labels_array) \n",
    "\n",
    "print(\"X_array\", type(X_array), X_array.shape)\n",
    "print(\"y_array\", type(y_array), y_array.shape)\n",
    "\n"
   ]
  },
  {
   "cell_type": "code",
   "execution_count": 8,
   "id": "c39ae0d2-d97b-425d-b255-10809a3f2ec7",
   "metadata": {},
   "outputs": [
    {
     "name": "stdout",
     "output_type": "stream",
     "text": [
      "y_array_encoded shape: (3584, 4)\n"
     ]
    }
   ],
   "source": [
    "# One hot encode labels.\n",
    "\n",
    "\n",
    "label_encoder = LabelEncoder()\n",
    "y_array = label_encoder.fit_transform(y_array)\n",
    "\n",
    "# One hot encode\n",
    "y_array_encoded = to_categorical(y_array)\n",
    "#y_array_encoded = to_categorical(y_array, num_classes=4)\n",
    "\n",
    "print(\"y_array_encoded shape:\", y_array_encoded.shape)"
   ]
  },
  {
   "cell_type": "code",
   "execution_count": 9,
   "id": "008fa456-0108-4707-9072-5d1b00e40281",
   "metadata": {},
   "outputs": [],
   "source": [
    "# Set random seed.\n",
    "seed =123\n",
    "\n",
    "# Split into train and test data.\n",
    "# shuffle=True by default but included it in the function call for clarity.\n",
    "# Use stratify to make sure the same proportion of each label exists in the training and the test data.\n",
    "X_train, X_test, y_train, y_test = train_test_split(X_array, y_array_encoded, shuffle=True, stratify=y_array_encoded, random_state=seed)\n",
    "\n",
    "# Split the data into training and validation sets.\n",
    "# Chose to use only 10% of the training data for validation due to the number of images available.\n",
    "X_train, X_val, y_train, y_val = train_test_split(X_train, y_train, test_size=0.1, shuffle=True, stratify=y_train, random_state=seed)\n"
   ]
  },
  {
   "cell_type": "code",
   "execution_count": 10,
   "id": "ed8b6610-558b-4e7d-a8a9-835218f78e56",
   "metadata": {},
   "outputs": [
    {
     "name": "stdout",
     "output_type": "stream",
     "text": [
      "X_train shape: (2419, 256, 256, 3)\n",
      "y_train shape: (2419, 4)\n",
      "X_test shape: (896, 256, 256, 3)\n",
      "y_test shape: (896, 4)\n",
      "X_val shape: (269, 256, 256, 3)\n",
      "y_val shape: (269, 4)\n"
     ]
    }
   ],
   "source": [
    "# Look at the shapes of everything:\n",
    "print(\"X_train shape:\", X_train.shape)\n",
    "print(\"y_train shape:\", y_train.shape)\n",
    "print(\"X_test shape:\", X_test.shape)\n",
    "print(\"y_test shape:\", y_test.shape)\n",
    "print(\"X_val shape:\", X_val.shape)\n",
    "print(\"y_val shape:\", y_val.shape)"
   ]
  },
  {
   "cell_type": "code",
   "execution_count": 11,
   "id": "9efdee50-7b6b-449b-b8e7-3291aa34780a",
   "metadata": {},
   "outputs": [
    {
     "name": "stdout",
     "output_type": "stream",
     "text": [
      "Model: \"vgg16\"\n",
      "_________________________________________________________________\n",
      " Layer (type)                Output Shape              Param #   \n",
      "=================================================================\n",
      " input_1 (InputLayer)        [(None, 256, 256, 3)]     0         \n",
      "                                                                 \n",
      " block1_conv1 (Conv2D)       (None, 256, 256, 64)      1792      \n",
      "                                                                 \n",
      " block1_conv2 (Conv2D)       (None, 256, 256, 64)      36928     \n",
      "                                                                 \n",
      " block1_pool (MaxPooling2D)  (None, 128, 128, 64)      0         \n",
      "                                                                 \n",
      " block2_conv1 (Conv2D)       (None, 128, 128, 128)     73856     \n",
      "                                                                 \n",
      " block2_conv2 (Conv2D)       (None, 128, 128, 128)     147584    \n",
      "                                                                 \n",
      " block2_pool (MaxPooling2D)  (None, 64, 64, 128)       0         \n",
      "                                                                 \n",
      " block3_conv1 (Conv2D)       (None, 64, 64, 256)       295168    \n",
      "                                                                 \n",
      " block3_conv2 (Conv2D)       (None, 64, 64, 256)       590080    \n",
      "                                                                 \n",
      " block3_conv3 (Conv2D)       (None, 64, 64, 256)       590080    \n",
      "                                                                 \n",
      " block3_pool (MaxPooling2D)  (None, 32, 32, 256)       0         \n",
      "                                                                 \n",
      " block4_conv1 (Conv2D)       (None, 32, 32, 512)       1180160   \n",
      "                                                                 \n",
      " block4_conv2 (Conv2D)       (None, 32, 32, 512)       2359808   \n",
      "                                                                 \n",
      " block4_conv3 (Conv2D)       (None, 32, 32, 512)       2359808   \n",
      "                                                                 \n",
      " block4_pool (MaxPooling2D)  (None, 16, 16, 512)       0         \n",
      "                                                                 \n",
      " block5_conv1 (Conv2D)       (None, 16, 16, 512)       2359808   \n",
      "                                                                 \n",
      " block5_conv2 (Conv2D)       (None, 16, 16, 512)       2359808   \n",
      "                                                                 \n",
      " block5_conv3 (Conv2D)       (None, 16, 16, 512)       2359808   \n",
      "                                                                 \n",
      " block5_pool (MaxPooling2D)  (None, 8, 8, 512)         0         \n",
      "                                                                 \n",
      "=================================================================\n",
      "Total params: 14714688 (56.13 MB)\n",
      "Trainable params: 14714688 (56.13 MB)\n",
      "Non-trainable params: 0 (0.00 Byte)\n",
      "_________________________________________________________________\n"
     ]
    }
   ],
   "source": [
    "# Load the pre-trained VGG16 model (excluding the top classifier)\n",
    "\n",
    "# base_vgg16_model = VGG16(include_top=False)]\n",
    "base_vgg16_model = VGG16(include_top=False, input_shape=(256,256,3))\n",
    "#  input_shape=IMG_SIZE + (3,)\n",
    "base_vgg16_model.summary()\n",
    "\n"
   ]
  },
  {
   "cell_type": "code",
   "execution_count": 12,
   "id": "cf0038b6-5f73-4d2a-8318-bfcb98876f6f",
   "metadata": {
    "scrolled": true
   },
   "outputs": [
    {
     "name": "stdout",
     "output_type": "stream",
     "text": [
      "Model: \"vgg16\"\n",
      "_________________________________________________________________\n",
      " Layer (type)                Output Shape              Param #   \n",
      "=================================================================\n",
      " input_1 (InputLayer)        [(None, 256, 256, 3)]     0         \n",
      "                                                                 \n",
      " block1_conv1 (Conv2D)       (None, 256, 256, 64)      1792      \n",
      "                                                                 \n",
      " block1_conv2 (Conv2D)       (None, 256, 256, 64)      36928     \n",
      "                                                                 \n",
      " block1_pool (MaxPooling2D)  (None, 128, 128, 64)      0         \n",
      "                                                                 \n",
      " block2_conv1 (Conv2D)       (None, 128, 128, 128)     73856     \n",
      "                                                                 \n",
      " block2_conv2 (Conv2D)       (None, 128, 128, 128)     147584    \n",
      "                                                                 \n",
      " block2_pool (MaxPooling2D)  (None, 64, 64, 128)       0         \n",
      "                                                                 \n",
      " block3_conv1 (Conv2D)       (None, 64, 64, 256)       295168    \n",
      "                                                                 \n",
      " block3_conv2 (Conv2D)       (None, 64, 64, 256)       590080    \n",
      "                                                                 \n",
      " block3_conv3 (Conv2D)       (None, 64, 64, 256)       590080    \n",
      "                                                                 \n",
      " block3_pool (MaxPooling2D)  (None, 32, 32, 256)       0         \n",
      "                                                                 \n",
      " block4_conv1 (Conv2D)       (None, 32, 32, 512)       1180160   \n",
      "                                                                 \n",
      " block4_conv2 (Conv2D)       (None, 32, 32, 512)       2359808   \n",
      "                                                                 \n",
      " block4_conv3 (Conv2D)       (None, 32, 32, 512)       2359808   \n",
      "                                                                 \n",
      " block4_pool (MaxPooling2D)  (None, 16, 16, 512)       0         \n",
      "                                                                 \n",
      " block5_conv1 (Conv2D)       (None, 16, 16, 512)       2359808   \n",
      "                                                                 \n",
      " block5_conv2 (Conv2D)       (None, 16, 16, 512)       2359808   \n",
      "                                                                 \n",
      " block5_conv3 (Conv2D)       (None, 16, 16, 512)       2359808   \n",
      "                                                                 \n",
      " block5_pool (MaxPooling2D)  (None, 8, 8, 512)         0         \n",
      "                                                                 \n",
      "=================================================================\n",
      "Total params: 14714688 (56.13 MB)\n",
      "Trainable params: 0 (0.00 Byte)\n",
      "Non-trainable params: 14714688 (56.13 MB)\n",
      "_________________________________________________________________\n"
     ]
    }
   ],
   "source": [
    "# Freeze the layers in the base model\n",
    "\n",
    "base_vgg16_model.trainable=False\n",
    "base_vgg16_model.summary()"
   ]
  },
  {
   "cell_type": "code",
   "execution_count": 13,
   "id": "eda4d657-290f-4712-94af-2d96da97f709",
   "metadata": {},
   "outputs": [
    {
     "name": "stdout",
     "output_type": "stream",
     "text": [
      "Model: \"sequential\"\n",
      "_________________________________________________________________\n",
      " Layer (type)                Output Shape              Param #   \n",
      "=================================================================\n",
      " vgg16 (Functional)          (None, 8, 8, 512)         14714688  \n",
      "                                                                 \n",
      " flatten (Flatten)           (None, 32768)             0         \n",
      "                                                                 \n",
      " dropout (Dropout)           (None, 32768)             0         \n",
      "                                                                 \n",
      " dense (Dense)               (None, 4)                 131076    \n",
      "                                                                 \n",
      "=================================================================\n",
      "Total params: 14845764 (56.63 MB)\n",
      "Trainable params: 131076 (512.02 KB)\n",
      "Non-trainable params: 14714688 (56.13 MB)\n",
      "_________________________________________________________________\n"
     ]
    }
   ],
   "source": [
    "# Now create model for fine tuning and add trainable layers to the base VGG16 model. \n",
    "\n",
    "# Define the Keras model\n",
    "model2_finetuned = Sequential()\n",
    "\n",
    "# Add the vgg16 model as the base model.\n",
    "model2_finetuned.add(base_vgg16_model)\n",
    "\n",
    "# Flatten to get the right shape?\n",
    "model2_finetuned.add(Flatten())\n",
    "\n",
    "# Add a dropout layer to prevent overfitting. Set dropout rate to 0.5.\n",
    "model2_finetuned.add(Dropout(rate=0.5))\n",
    "\n",
    "# Add a dense layer to get ouput. Chose softmax activation since this is a multiclassification problem.\n",
    "model2_finetuned.add(Dense(4, activation='softmax'))\n",
    "\n",
    "# Summarize the model.\n",
    "model2_finetuned.summary()"
   ]
  },
  {
   "cell_type": "code",
   "execution_count": 14,
   "id": "88885b2b-42d8-4345-98af-a06391d2008d",
   "metadata": {},
   "outputs": [],
   "source": [
    "# Compile the model.\n",
    "model2_finetuned.compile(optimizer=\"adam\", loss=\"categorical_crossentropy\", metrics=[\"accuracy\"])\n"
   ]
  },
  {
   "cell_type": "code",
   "execution_count": 15,
   "id": "4c507cb1-4171-41b3-b335-db8ac369c7d8",
   "metadata": {},
   "outputs": [
    {
     "name": "stdout",
     "output_type": "stream",
     "text": [
      "Epoch 1/100\n",
      "76/76 - 123s - loss: 6.5854 - accuracy: 0.7321 - val_loss: 4.0751 - val_accuracy: 0.8587 - 123s/epoch - 2s/step\n",
      "Epoch 2/100\n",
      "76/76 - 124s - loss: 2.2794 - accuracy: 0.8921 - val_loss: 3.0062 - val_accuracy: 0.9033 - 124s/epoch - 2s/step\n",
      "Epoch 3/100\n",
      "76/76 - 124s - loss: 2.0177 - accuracy: 0.9107 - val_loss: 3.9833 - val_accuracy: 0.9108 - 124s/epoch - 2s/step\n",
      "Epoch 4/100\n",
      "76/76 - 124s - loss: 0.8785 - accuracy: 0.9496 - val_loss: 3.9461 - val_accuracy: 0.9071 - 124s/epoch - 2s/step\n",
      "Epoch 5/100\n",
      "76/76 - 124s - loss: 1.2094 - accuracy: 0.9487 - val_loss: 4.6039 - val_accuracy: 0.8736 - 124s/epoch - 2s/step\n",
      "Epoch 6/100\n",
      "76/76 - 124s - loss: 0.6316 - accuracy: 0.9636 - val_loss: 4.0113 - val_accuracy: 0.9071 - 124s/epoch - 2s/step\n",
      "Epoch 7/100\n",
      "76/76 - 124s - loss: 0.5281 - accuracy: 0.9665 - val_loss: 4.3104 - val_accuracy: 0.9145 - 124s/epoch - 2s/step\n",
      "Epoch 8/100\n",
      "76/76 - 125s - loss: 0.7056 - accuracy: 0.9669 - val_loss: 3.2296 - val_accuracy: 0.9257 - 125s/epoch - 2s/step\n",
      "Epoch 9/100\n",
      "76/76 - 125s - loss: 0.4238 - accuracy: 0.9793 - val_loss: 2.9198 - val_accuracy: 0.9219 - 125s/epoch - 2s/step\n",
      "Epoch 10/100\n",
      "76/76 - 124s - loss: 0.7027 - accuracy: 0.9744 - val_loss: 4.0912 - val_accuracy: 0.9219 - 124s/epoch - 2s/step\n",
      "Epoch 11/100\n",
      "76/76 - 124s - loss: 0.6351 - accuracy: 0.9715 - val_loss: 4.4733 - val_accuracy: 0.9071 - 124s/epoch - 2s/step\n",
      "Epoch 12/100\n",
      "76/76 - 124s - loss: 0.9667 - accuracy: 0.9665 - val_loss: 5.1986 - val_accuracy: 0.9108 - 124s/epoch - 2s/step\n",
      "Epoch 13/100\n",
      "76/76 - 124s - loss: 1.0519 - accuracy: 0.9591 - val_loss: 4.1680 - val_accuracy: 0.9368 - 124s/epoch - 2s/step\n",
      "Epoch 14/100\n",
      "76/76 - 124s - loss: 0.8413 - accuracy: 0.9752 - val_loss: 3.8558 - val_accuracy: 0.9331 - 124s/epoch - 2s/step\n",
      "Epoch 15/100\n",
      "76/76 - 124s - loss: 0.6712 - accuracy: 0.9777 - val_loss: 4.4069 - val_accuracy: 0.9294 - 124s/epoch - 2s/step\n"
     ]
    }
   ],
   "source": [
    "# Create a stop callback and train the model.\n",
    "\n",
    "# This callback will stop the training when there is no improvement in the loss for three consecutive epochs.\n",
    "stop_callback = EarlyStopping(monitor=\"loss\", patience=6)\n",
    "\n",
    "# Train the model\n",
    "history = model2_finetuned.fit(x=X_train, y=y_train , validation_data=(X_val, y_val), epochs=100, callbacks=[stop_callback], verbose=2)\n"
   ]
  },
  {
   "cell_type": "code",
   "execution_count": 16,
   "id": "47851a05-aa94-41ff-b46e-42f1c1cd0549",
   "metadata": {},
   "outputs": [
    {
     "name": "stdout",
     "output_type": "stream",
     "text": [
      "28/28 [==============================] - 37s 1s/step\n",
      "y_predicted shape: (896, 4)\n",
      "y_test shape: (896, 4)\n"
     ]
    }
   ],
   "source": [
    "# Make predictions on test data\n",
    "y_predicted = model2_finetuned.predict(X_test)\n",
    "print(\"y_predicted shape:\", y_predicted.shape)\n",
    "print(\"y_test shape:\", y_test.shape)"
   ]
  },
  {
   "cell_type": "code",
   "execution_count": 17,
   "id": "1615d44a-48d3-47f7-a906-1973b67d3eeb",
   "metadata": {},
   "outputs": [],
   "source": [
    "# Confusion matrix\n",
    "\n",
    "# Save a copy of y_test before calling argmax (for development purposes).\n",
    "y_test_copy = y_test\n",
    "#y_test = y_test_copy\n",
    "# Why need argmax?\n",
    "# Taken from https://stackoverflow.com/questions/48987959/classification-metrics-cant-handle-a-mix-of-continuous-multioutput-and-multi-la\n",
    "y_test=np.argmax(y_test, axis=1)\n",
    "y_predicted=np.argmax(y_predicted, axis=1)\n",
    "#y_predicted=np.argmax(y_predicted)\n",
    "\n",
    "finetuned_confusion_matrix = confusion_matrix(y_test, y_predicted)"
   ]
  },
  {
   "cell_type": "code",
   "execution_count": 18,
   "id": "35ee1af4-7f01-4681-a458-0918aa872959",
   "metadata": {},
   "outputs": [
    {
     "data": {
      "image/png": "[encoded data removed]",
      "text/plain": [
       "<Figure size 1400x700 with 2 Axes>"
      ]
     },
     "metadata": {},
     "output_type": "display_data"
    }
   ],
   "source": [
    "# Plot the confusion matrix as a heatmap.\n",
    "\n",
    "# Create a 1 x 1 subplot, size (14,7)\n",
    "fig,ax=plt.subplots(1,1,figsize=(14,7))\n",
    "\n",
    "# Create labels for the axes.\n",
    "axis_labels = ['glioma_tumor','no_tumor','meningioma_tumor','pituitary_tumor']\n",
    "\n",
    "# Generate a heatmap for the confusion matrix using the labels for each axis, and write the data in each cell.\n",
    "sns.heatmap(finetuned_confusion_matrix,ax=ax,xticklabels=axis_labels,yticklabels=axis_labels,annot=True, alpha=0.7,linewidths=2)\n",
    "\n",
    "# Create text for the heatmap.\n",
    "fig.text(s=\"Finetuned Confusion Matrix Heatmap\",size=18,fontweight=\"bold\", fontname=\"monospace\",y=0.92,x=0.28,alpha=0.8)\n",
    "\n",
    "# Show the plot of the confusion matrix.\n",
    "plt.show()"
   ]
  },
  {
   "cell_type": "code",
   "execution_count": 19,
   "id": "a3ba4938-853d-4d38-90ca-4e426eff1430",
   "metadata": {},
   "outputs": [
    {
     "name": "stdout",
     "output_type": "stream",
     "text": [
      "              precision    recall  f1-score   support\n",
      "\n",
      "           0       0.96      0.89      0.93       232\n",
      "           1       0.90      0.90      0.90       234\n",
      "           2       0.94      1.00      0.97       205\n",
      "           3       0.96      0.99      0.97       225\n",
      "\n",
      "    accuracy                           0.94       896\n",
      "   macro avg       0.94      0.94      0.94       896\n",
      "weighted avg       0.94      0.94      0.94       896\n",
      "\n"
     ]
    }
   ],
   "source": [
    "# Classification report.\n",
    "\n",
    "# 0 - Glioma Tumor\n",
    "# 1 - No Tumor\n",
    "# 2 - Meningioma Tumor\n",
    "# 3 - Pituitary Tumor\n",
    "\n",
    "finetuned_classification_report = classification_report(y_test,y_predicted)\n",
    "print(finetuned_classification_report)"
   ]
  },
  {
   "cell_type": "code",
   "execution_count": 18,
   "id": "182f608a-4cec-4fa4-96b0-ec0574da6a31",
   "metadata": {},
   "outputs": [],
   "source": [
    "# Augmented fine tuned results show some improvement over fine tuned results.\n",
    "# While the training loss and accuracy of the two models were similar, the validation loss and accuracy for the augmented fine tuned model were\n",
    "# noticeably better (4.4 and 0.93) when compared to the fine tuned model without augmentation (6.7 and 0.90).\n",
    "# Regarding the test data, much of the confusion matrix improved, notably them meningioma tumor (2) had a recall of 1.0, which means that \n",
    "# no false negatives were produced. With the previous fined tuned model the recall was 0.9. Also the ability to distinguish between\n",
    "# glioma tumors and no tumors was noticeably improved (form 29 to 22 and from 12 to 8).\n",
    "# The classification report showed that the augmented fine tuned model precision was generally improved for all tumor types except for meningioma tumors.   \n",
    "# for the different types of tumors, and recall for the augmented fine tuned model improved for all tumor types (0, 2).\n",
    "# The f1-score for the augmented fine tuned model was generally better (pituitary tumor was a small exception) while overall accuracy was improved\n",
    "# for the augmented fine tuned model as compared to the fine tuned model (0.94 vs 0.92).\n",
    "\n",
    "# Scaling:\n",
    "# The original images were 512x512, and were downsized to 256x256 to reduce the computing pwoer necessary to train and run the model.\n",
    "# The images could be downsized further to 128x128 if necessary and likely stilla chieve very good reuslts using the fine-tunedd vgg16\n",
    "# model with augmented data. To further test the scalability of the program, additional data augmentation can be done to reach high enough level of data\n",
    "# (ex. millions of images) to test to see how the model and code perform. Additional optimizations include hardware (using GPUs insrtead of CPUs),\n",
    "# deployment (local vs. cloud with potentially many more compute resources), and software (further tuning of the current model or trying newer models\n",
    "# that may require fewer compute resources).\n"
   ]
  },
  {
   "cell_type": "code",
   "execution_count": 21,
   "id": "4f904dbf-21f4-45ac-861f-ae919466b8a8",
   "metadata": {},
   "outputs": [
    {
     "data": {
      "image/png": "[encoded data removed]",
      "text/plain": [
       "<Figure size 640x480 with 1 Axes>"
      ]
     },
     "metadata": {},
     "output_type": "display_data"
    }
   ],
   "source": [
    "\n",
    "plt.plot(history.history[\"loss\"])\n",
    "plt.plot(history.history[\"val_loss\"])\n",
    "plt.title(\"Model loss\")\n",
    "plt.ylabel(\"Loss\")\n",
    "plt.xlabel(\"Epoch\")\n",
    "plt.legend([\"Training loss\", \"validation loss\"], loc=\"upper left\")\n",
    "plt.show()\n"
   ]
  }
 ],
 "metadata": {
  "kernelspec": {
   "display_name": "Python (capstone_venv)",
   "language": "python",
   "name": "capstone_venv"
  },
  "language_info": {
   "codemirror_mode": {
    "name": "ipython",
    "version": 3
   },
   "file_extension": ".py",
   "mimetype": "text/x-python",
   "name": "python",
   "nbconvert_exporter": "python",
   "pygments_lexer": "ipython3",
   "version": "3.11.7"
  }
 },
 "nbformat": 4,
 "nbformat_minor": 5
}
