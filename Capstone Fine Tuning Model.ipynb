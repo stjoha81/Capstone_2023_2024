{
 "cells": [
  {
   "cell_type": "code",
   "execution_count": 16,
   "id": "c670f9f7-9810-4f1c-9ab8-f3f13aad296f",
   "metadata": {},
   "outputs": [],
   "source": [
    "import matplotlib.pyplot as plt\n",
    "import numpy as np\n",
    "import seaborn as sns\n",
    "import tensorflow as tf\n",
    "from keras.callbacks import EarlyStopping\n",
    "from tensorflow.keras.datasets import cifar10\n",
    "from tensorflow.keras.applications import VGG16\n",
    "from tensorflow.keras.models import Model\n",
    "from tensorflow.keras.models import Sequential\n",
    "from tensorflow.keras.layers import Dense, Dropout, Flatten, GlobalAveragePooling2D\n",
    "from tensorflow.keras.optimizers import Adam\n",
    "from tensorflow.keras.utils import to_categorical\n",
    "from sklearn.metrics import classification_report, confusion_matrix\n",
    "from sklearn.model_selection import train_test_split"
   ]
  },
  {
   "cell_type": "code",
   "execution_count": 2,
   "id": "458325d8-3b62-4516-9f78-9930fd7a99bd",
   "metadata": {},
   "outputs": [],
   "source": [
    "# Load the already prepped data. \n",
    "# Note that the prepped data is created in the \"Capstone Model_no augmentation\" notebook file available at:\n",
    "# https://github.com/stjoha81/Capstone_2023_2024/blob/main/Capstone%20Model_no%20augmentation.ipynb\n",
    "# Running the steps up until the train_test_split.\n",
    "X_array = np.load(\"capstone_prepped_x.npy\")\n",
    "y_array_encoded = np.load(\"capstone_prepped_y.npy\")"
   ]
  },
  {
   "cell_type": "code",
   "execution_count": 3,
   "id": "008fa456-0108-4707-9072-5d1b00e40281",
   "metadata": {},
   "outputs": [],
   "source": [
    "# Set random seed.\n",
    "seed =123\n",
    "\n",
    "# Split into train and test data.\n",
    "# shuffle=True by default but included it in the function call for clarity.\n",
    "# Use stratify to make sure the same proportion of each label exists in the training and the test data.\n",
    "X_train, X_test, y_train, y_test = train_test_split(X_array, y_array_encoded, shuffle=True, stratify=y_array_encoded, random_state=seed)\n",
    "\n",
    "# Split the data into training and validation sets.\n",
    "# Chose to use only 10% of the training data for validation due to the number of images available.\n",
    "X_train, X_val, y_train, y_val = train_test_split(X_train, y_train, test_size=0.1, shuffle=True, stratify=y_train, random_state=seed)\n"
   ]
  },
  {
   "cell_type": "code",
   "execution_count": 4,
   "id": "ed8b6610-558b-4e7d-a8a9-835218f78e56",
   "metadata": {},
   "outputs": [
    {
     "name": "stdout",
     "output_type": "stream",
     "text": [
      "X_train shape: (2203, 256, 256, 3)\n",
      "y_train shape: (2203, 4)\n",
      "X_test shape: (816, 256, 256, 3)\n",
      "y_test shape: (816, 4)\n",
      "X_val shape: (245, 256, 256, 3)\n",
      "y_val shape: (245, 4)\n"
     ]
    }
   ],
   "source": [
    "# Look at the shapes of everything:\n",
    "print(\"X_train shape:\", X_train.shape)\n",
    "print(\"y_train shape:\", y_train.shape)\n",
    "print(\"X_test shape:\", X_test.shape)\n",
    "print(\"y_test shape:\", y_test.shape)\n",
    "print(\"X_val shape:\", X_val.shape)\n",
    "print(\"y_val shape:\", y_val.shape)"
   ]
  },
  {
   "cell_type": "code",
   "execution_count": 5,
   "id": "9efdee50-7b6b-449b-b8e7-3291aa34780a",
   "metadata": {},
   "outputs": [
    {
     "name": "stdout",
     "output_type": "stream",
     "text": [
      "Model: \"vgg16\"\n",
      "_________________________________________________________________\n",
      " Layer (type)                Output Shape              Param #   \n",
      "=================================================================\n",
      " input_1 (InputLayer)        [(None, 256, 256, 3)]     0         \n",
      "                                                                 \n",
      " block1_conv1 (Conv2D)       (None, 256, 256, 64)      1792      \n",
      "                                                                 \n",
      " block1_conv2 (Conv2D)       (None, 256, 256, 64)      36928     \n",
      "                                                                 \n",
      " block1_pool (MaxPooling2D)  (None, 128, 128, 64)      0         \n",
      "                                                                 \n",
      " block2_conv1 (Conv2D)       (None, 128, 128, 128)     73856     \n",
      "                                                                 \n",
      " block2_conv2 (Conv2D)       (None, 128, 128, 128)     147584    \n",
      "                                                                 \n",
      " block2_pool (MaxPooling2D)  (None, 64, 64, 128)       0         \n",
      "                                                                 \n",
      " block3_conv1 (Conv2D)       (None, 64, 64, 256)       295168    \n",
      "                                                                 \n",
      " block3_conv2 (Conv2D)       (None, 64, 64, 256)       590080    \n",
      "                                                                 \n",
      " block3_conv3 (Conv2D)       (None, 64, 64, 256)       590080    \n",
      "                                                                 \n",
      " block3_pool (MaxPooling2D)  (None, 32, 32, 256)       0         \n",
      "                                                                 \n",
      " block4_conv1 (Conv2D)       (None, 32, 32, 512)       1180160   \n",
      "                                                                 \n",
      " block4_conv2 (Conv2D)       (None, 32, 32, 512)       2359808   \n",
      "                                                                 \n",
      " block4_conv3 (Conv2D)       (None, 32, 32, 512)       2359808   \n",
      "                                                                 \n",
      " block4_pool (MaxPooling2D)  (None, 16, 16, 512)       0         \n",
      "                                                                 \n",
      " block5_conv1 (Conv2D)       (None, 16, 16, 512)       2359808   \n",
      "                                                                 \n",
      " block5_conv2 (Conv2D)       (None, 16, 16, 512)       2359808   \n",
      "                                                                 \n",
      " block5_conv3 (Conv2D)       (None, 16, 16, 512)       2359808   \n",
      "                                                                 \n",
      " block5_pool (MaxPooling2D)  (None, 8, 8, 512)         0         \n",
      "                                                                 \n",
      "=================================================================\n",
      "Total params: 14714688 (56.13 MB)\n",
      "Trainable params: 14714688 (56.13 MB)\n",
      "Non-trainable params: 0 (0.00 Byte)\n",
      "_________________________________________________________________\n"
     ]
    }
   ],
   "source": [
    "# Load the pre-trained VGG16 model (excluding the top classifier)\n",
    "\n",
    "# base_vgg16_model = VGG16(include_top=False)]\n",
    "base_vgg16_model = VGG16(include_top=False, input_shape=(256,256,3))\n",
    "#  input_shape=IMG_SIZE + (3,)\n",
    "base_vgg16_model.summary()\n",
    "\n"
   ]
  },
  {
   "cell_type": "code",
   "execution_count": 6,
   "id": "cf0038b6-5f73-4d2a-8318-bfcb98876f6f",
   "metadata": {
    "scrolled": true
   },
   "outputs": [
    {
     "name": "stdout",
     "output_type": "stream",
     "text": [
      "Model: \"vgg16\"\n",
      "_________________________________________________________________\n",
      " Layer (type)                Output Shape              Param #   \n",
      "=================================================================\n",
      " input_1 (InputLayer)        [(None, 256, 256, 3)]     0         \n",
      "                                                                 \n",
      " block1_conv1 (Conv2D)       (None, 256, 256, 64)      1792      \n",
      "                                                                 \n",
      " block1_conv2 (Conv2D)       (None, 256, 256, 64)      36928     \n",
      "                                                                 \n",
      " block1_pool (MaxPooling2D)  (None, 128, 128, 64)      0         \n",
      "                                                                 \n",
      " block2_conv1 (Conv2D)       (None, 128, 128, 128)     73856     \n",
      "                                                                 \n",
      " block2_conv2 (Conv2D)       (None, 128, 128, 128)     147584    \n",
      "                                                                 \n",
      " block2_pool (MaxPooling2D)  (None, 64, 64, 128)       0         \n",
      "                                                                 \n",
      " block3_conv1 (Conv2D)       (None, 64, 64, 256)       295168    \n",
      "                                                                 \n",
      " block3_conv2 (Conv2D)       (None, 64, 64, 256)       590080    \n",
      "                                                                 \n",
      " block3_conv3 (Conv2D)       (None, 64, 64, 256)       590080    \n",
      "                                                                 \n",
      " block3_pool (MaxPooling2D)  (None, 32, 32, 256)       0         \n",
      "                                                                 \n",
      " block4_conv1 (Conv2D)       (None, 32, 32, 512)       1180160   \n",
      "                                                                 \n",
      " block4_conv2 (Conv2D)       (None, 32, 32, 512)       2359808   \n",
      "                                                                 \n",
      " block4_conv3 (Conv2D)       (None, 32, 32, 512)       2359808   \n",
      "                                                                 \n",
      " block4_pool (MaxPooling2D)  (None, 16, 16, 512)       0         \n",
      "                                                                 \n",
      " block5_conv1 (Conv2D)       (None, 16, 16, 512)       2359808   \n",
      "                                                                 \n",
      " block5_conv2 (Conv2D)       (None, 16, 16, 512)       2359808   \n",
      "                                                                 \n",
      " block5_conv3 (Conv2D)       (None, 16, 16, 512)       2359808   \n",
      "                                                                 \n",
      " block5_pool (MaxPooling2D)  (None, 8, 8, 512)         0         \n",
      "                                                                 \n",
      "=================================================================\n",
      "Total params: 14714688 (56.13 MB)\n",
      "Trainable params: 0 (0.00 Byte)\n",
      "Non-trainable params: 14714688 (56.13 MB)\n",
      "_________________________________________________________________\n"
     ]
    }
   ],
   "source": [
    "# Freeze the layers in the base model\n",
    "\n",
    "base_vgg16_model.trainable=False\n",
    "base_vgg16_model.summary()"
   ]
  },
  {
   "cell_type": "code",
   "execution_count": 7,
   "id": "eda4d657-290f-4712-94af-2d96da97f709",
   "metadata": {},
   "outputs": [
    {
     "name": "stdout",
     "output_type": "stream",
     "text": [
      "Model: \"sequential\"\n",
      "_________________________________________________________________\n",
      " Layer (type)                Output Shape              Param #   \n",
      "=================================================================\n",
      " vgg16 (Functional)          (None, 8, 8, 512)         14714688  \n",
      "                                                                 \n",
      " flatten (Flatten)           (None, 32768)             0         \n",
      "                                                                 \n",
      " dropout (Dropout)           (None, 32768)             0         \n",
      "                                                                 \n",
      " dense (Dense)               (None, 4)                 131076    \n",
      "                                                                 \n",
      "=================================================================\n",
      "Total params: 14845764 (56.63 MB)\n",
      "Trainable params: 131076 (512.02 KB)\n",
      "Non-trainable params: 14714688 (56.13 MB)\n",
      "_________________________________________________________________\n"
     ]
    }
   ],
   "source": [
    "# Now create model for fine tuning and add trainable layers to the base VGG16 model. \n",
    "\n",
    "# Define the Keras model\n",
    "model2_finetuned = Sequential()\n",
    "\n",
    "# Add the vgg16 model as the base model.\n",
    "model2_finetuned.add(base_vgg16_model)\n",
    "\n",
    "# Flatten to get the right shape?\n",
    "model2_finetuned.add(Flatten())\n",
    "\n",
    "# Add a dropout layer to prevent overfitting. Set dropout rate to 0.5.\n",
    "model2_finetuned.add(Dropout(rate=0.5))\n",
    "\n",
    "# Add a dense layer to get ouput. Chose softmax activation since this is a multiclassification problem.\n",
    "model2_finetuned.add(Dense(4, activation='softmax'))\n",
    "\n",
    "# Summarize the model.\n",
    "model2_finetuned.summary()"
   ]
  },
  {
   "cell_type": "code",
   "execution_count": 8,
   "id": "88885b2b-42d8-4345-98af-a06391d2008d",
   "metadata": {},
   "outputs": [],
   "source": [
    "# Compile the model.\n",
    "model2_finetuned.compile(optimizer=\"adam\", loss=\"categorical_crossentropy\", metrics=[\"accuracy\"])\n",
    "\n",
    "# Use sparse_categorical_crossentropy for loss?\n",
    "#model2_finetuned.compile(optimizer=\"adam\", loss=\"sparse_categorical_crossentropy\", metrics=[\"accuracy\"])"
   ]
  },
  {
   "cell_type": "code",
   "execution_count": 9,
   "id": "4c507cb1-4171-41b3-b335-db8ac369c7d8",
   "metadata": {},
   "outputs": [
    {
     "name": "stdout",
     "output_type": "stream",
     "text": [
      "Epoch 1/100\n",
      "69/69 - 109s - loss: 7.7722 - accuracy: 0.7227 - val_loss: 4.1356 - val_accuracy: 0.8245 - 109s/epoch - 2s/step\n",
      "Epoch 2/100\n",
      "69/69 - 129s - loss: 2.4975 - accuracy: 0.8856 - val_loss: 3.6821 - val_accuracy: 0.8816 - 129s/epoch - 2s/step\n",
      "Epoch 3/100\n",
      "69/69 - 131s - loss: 1.2904 - accuracy: 0.9324 - val_loss: 4.8263 - val_accuracy: 0.8694 - 131s/epoch - 2s/step\n",
      "Epoch 4/100\n",
      "69/69 - 131s - loss: 1.0032 - accuracy: 0.9433 - val_loss: 3.7184 - val_accuracy: 0.8898 - 131s/epoch - 2s/step\n",
      "Epoch 5/100\n",
      "69/69 - 148s - loss: 1.2185 - accuracy: 0.9501 - val_loss: 4.0767 - val_accuracy: 0.8776 - 148s/epoch - 2s/step\n",
      "Epoch 6/100\n",
      "69/69 - 137s - loss: 0.6556 - accuracy: 0.9641 - val_loss: 4.0020 - val_accuracy: 0.8939 - 137s/epoch - 2s/step\n",
      "Epoch 7/100\n",
      "69/69 - 130s - loss: 0.8132 - accuracy: 0.9573 - val_loss: 7.5992 - val_accuracy: 0.8571 - 130s/epoch - 2s/step\n",
      "Epoch 8/100\n",
      "69/69 - 128s - loss: 0.6779 - accuracy: 0.9705 - val_loss: 4.4345 - val_accuracy: 0.9020 - 128s/epoch - 2s/step\n",
      "Epoch 9/100\n",
      "69/69 - 126s - loss: 1.1251 - accuracy: 0.9537 - val_loss: 10.4426 - val_accuracy: 0.8041 - 126s/epoch - 2s/step\n",
      "Epoch 10/100\n",
      "69/69 - 127s - loss: 1.0987 - accuracy: 0.9578 - val_loss: 4.4794 - val_accuracy: 0.9061 - 127s/epoch - 2s/step\n",
      "Epoch 11/100\n",
      "69/69 - 125s - loss: 0.4747 - accuracy: 0.9823 - val_loss: 4.2360 - val_accuracy: 0.9143 - 125s/epoch - 2s/step\n",
      "Epoch 12/100\n",
      "69/69 - 126s - loss: 0.3810 - accuracy: 0.9787 - val_loss: 4.7695 - val_accuracy: 0.9061 - 126s/epoch - 2s/step\n",
      "Epoch 13/100\n",
      "69/69 - 125s - loss: 0.4895 - accuracy: 0.9809 - val_loss: 9.5406 - val_accuracy: 0.8327 - 125s/epoch - 2s/step\n",
      "Epoch 14/100\n",
      "69/69 - 124s - loss: 0.8639 - accuracy: 0.9696 - val_loss: 4.2421 - val_accuracy: 0.9102 - 124s/epoch - 2s/step\n",
      "Epoch 15/100\n",
      "69/69 - 124s - loss: 0.6827 - accuracy: 0.9746 - val_loss: 5.2250 - val_accuracy: 0.9061 - 124s/epoch - 2s/step\n",
      "Epoch 16/100\n",
      "69/69 - 124s - loss: 0.5047 - accuracy: 0.9837 - val_loss: 6.3365 - val_accuracy: 0.9184 - 124s/epoch - 2s/step\n",
      "Epoch 17/100\n",
      "69/69 - 124s - loss: 0.2174 - accuracy: 0.9900 - val_loss: 7.4160 - val_accuracy: 0.8939 - 124s/epoch - 2s/step\n",
      "Epoch 18/100\n",
      "69/69 - 124s - loss: 0.4764 - accuracy: 0.9846 - val_loss: 6.6281 - val_accuracy: 0.9143 - 124s/epoch - 2s/step\n",
      "Epoch 19/100\n",
      "69/69 - 124s - loss: 0.4218 - accuracy: 0.9809 - val_loss: 6.6291 - val_accuracy: 0.9020 - 124s/epoch - 2s/step\n",
      "Epoch 20/100\n",
      "69/69 - 123s - loss: 0.4762 - accuracy: 0.9855 - val_loss: 6.3940 - val_accuracy: 0.9020 - 123s/epoch - 2s/step\n",
      "Epoch 21/100\n",
      "69/69 - 123s - loss: 0.6955 - accuracy: 0.9741 - val_loss: 5.8098 - val_accuracy: 0.9143 - 123s/epoch - 2s/step\n",
      "Epoch 22/100\n",
      "69/69 - 123s - loss: 0.8060 - accuracy: 0.9759 - val_loss: 6.5165 - val_accuracy: 0.9061 - 123s/epoch - 2s/step\n",
      "Epoch 23/100\n",
      "69/69 - 122s - loss: 0.4034 - accuracy: 0.9855 - val_loss: 6.7953 - val_accuracy: 0.9061 - 122s/epoch - 2s/step\n"
     ]
    },
    {
     "data": {
      "text/plain": [
       "<keras.src.callbacks.History at 0x2ed20a890>"
      ]
     },
     "execution_count": 9,
     "metadata": {},
     "output_type": "execute_result"
    }
   ],
   "source": [
    "# Create a stop callback and train the model.\n",
    "\n",
    "# This callback will stop the training when there is no improvement in the loss for three consecutive epochs.\n",
    "stop_callback = EarlyStopping(monitor=\"loss\", patience=6)\n",
    "\n",
    "# Train the model\n",
    "model2_finetuned.fit(x=X_train, y=y_train , validation_data=(X_val, y_val), epochs=100, callbacks=[stop_callback], verbose=2)\n"
   ]
  },
  {
   "cell_type": "code",
   "execution_count": 10,
   "id": "47851a05-aa94-41ff-b46e-42f1c1cd0549",
   "metadata": {},
   "outputs": [
    {
     "name": "stdout",
     "output_type": "stream",
     "text": [
      "26/26 [==============================] - 32s 1s/step\n",
      "y_predicted shape: (816, 4)\n",
      "y_test shape: (816, 4)\n"
     ]
    }
   ],
   "source": [
    "# Make predictions on test data\n",
    "y_predicted = model2_finetuned.predict(X_test)\n",
    "print(\"y_predicted shape:\", y_predicted.shape)\n",
    "print(\"y_test shape:\", y_test.shape)"
   ]
  },
  {
   "cell_type": "code",
   "execution_count": 11,
   "id": "1615d44a-48d3-47f7-a906-1973b67d3eeb",
   "metadata": {},
   "outputs": [],
   "source": [
    "# Confusion matrix\n",
    "\n",
    "# Save a copy of y_test before calling argmax (for development purposes).\n",
    "#y_test_copy = y_test\n",
    "#y_test = y_test_copy\n",
    "# Why need argmax?\n",
    "# Taken from https://stackoverflow.com/questions/48987959/classification-metrics-cant-handle-a-mix-of-continuous-multioutput-and-multi-la\n",
    "y_test=np.argmax(y_test, axis=1)\n",
    "y_predicted=np.argmax(y_predicted, axis=1)\n",
    "#y_predicted=np.argmax(y_predicted)\n",
    "\n",
    "finetuned_confusion_matrix = confusion_matrix(y_test, y_predicted)"
   ]
  },
  {
   "cell_type": "code",
   "execution_count": 17,
   "id": "35ee1af4-7f01-4681-a458-0918aa872959",
   "metadata": {},
   "outputs": [
    {
     "data": {
      "image/png": "[encoded data removed]",
      "text/plain": [
       "<Figure size 1400x700 with 2 Axes>"
      ]
     },
     "metadata": {},
     "output_type": "display_data"
    }
   ],
   "source": [
    "# Plot the confusion matrix as a heatmap.\n",
    "\n",
    "# Create a 1 x 1 subplot, size (14,7)\n",
    "fig,ax=plt.subplots(1,1,figsize=(14,7))\n",
    "\n",
    "# Create labels for the axes.\n",
    "axis_labels = ['glioma_tumor','no_tumor','meningioma_tumor','pituitary_tumor']\n",
    "\n",
    "# Generate a heatmap for the confusion matrix using the labels for each axis, and write the data in each cell.\n",
    "sns.heatmap(finetuned_confusion_matrix,ax=ax,xticklabels=axis_labels,yticklabels=axis_labels,annot=True, alpha=0.7,linewidths=2)\n",
    "\n",
    "# Create text for the heatmap.\n",
    "fig.text(s=\"Finetuned Confusion Matrix Heatmap\",size=18,fontweight=\"bold\", fontname=\"monospace\",y=0.92,x=0.28,alpha=0.8)\n",
    "\n",
    "# Show the plot of the confusion matrix.\n",
    "plt.show()"
   ]
  },
  {
   "cell_type": "code",
   "execution_count": 18,
   "id": "a3ba4938-853d-4d38-90ca-4e426eff1430",
   "metadata": {},
   "outputs": [
    {
     "name": "stdout",
     "output_type": "stream",
     "text": [
      "              precision    recall  f1-score   support\n",
      "\n",
      "           0       0.92      0.85      0.89       232\n",
      "           1       0.86      0.93      0.89       234\n",
      "           2       0.97      0.90      0.93       125\n",
      "           3       0.97      0.99      0.98       225\n",
      "\n",
      "    accuracy                           0.92       816\n",
      "   macro avg       0.93      0.92      0.92       816\n",
      "weighted avg       0.92      0.92      0.92       816\n",
      "\n"
     ]
    }
   ],
   "source": [
    "# Classification report.\n",
    "\n",
    "# 0 - Glioma Tumor\n",
    "# 1 - No Tumor\n",
    "# 2 - Meningioma Tumor\n",
    "# 3 - Pituitary Tumor\n",
    "\n",
    "finetuned_classification_report = classification_report(y_test,y_predicted)\n",
    "print(finetuned_classification_report)"
   ]
  },
  {
   "cell_type": "code",
   "execution_count": 20,
   "id": "182f608a-4cec-4fa4-96b0-ec0574da6a31",
   "metadata": {},
   "outputs": [],
   "source": [
    "# Fine tuned results are much better than cnn results. \n",
    "# Both the confusion matrix and classification report show significant improvments in precision, recall, and accuracy for the finetuned model."
   ]
  }
 ],
 "metadata": {
  "kernelspec": {
   "display_name": "Python 3 (ipykernel)",
   "language": "python",
   "name": "python3"
  },
  "language_info": {
   "codemirror_mode": {
    "name": "ipython",
    "version": 3
   },
   "file_extension": ".py",
   "mimetype": "text/x-python",
   "name": "python",
   "nbconvert_exporter": "python",
   "pygments_lexer": "ipython3",
   "version": "3.11.7"
  }
 },
 "nbformat": 4,
 "nbformat_minor": 5
}
